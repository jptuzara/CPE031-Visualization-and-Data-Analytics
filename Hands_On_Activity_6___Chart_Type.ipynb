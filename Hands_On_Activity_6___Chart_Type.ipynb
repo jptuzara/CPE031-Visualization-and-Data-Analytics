{
  "nbformat": 4,
  "nbformat_minor": 0,
  "metadata": {
    "colab": {
      "provenance": [],
      "include_colab_link": true
    },
    "kernelspec": {
      "name": "python3",
      "display_name": "Python 3"
    },
    "language_info": {
      "name": "python"
    }
  },
  "cells": [
    {
      "cell_type": "markdown",
      "metadata": {
        "id": "view-in-github",
        "colab_type": "text"
      },
      "source": [
        "<a href=\"https://colab.research.google.com/github/jptuzara/CPE031-Visualization-and-Data-Analytics/blob/main/Hands_On_Activity_6___Chart_Type.ipynb\" target=\"_parent\"><img src=\"https://colab.research.google.com/assets/colab-badge.svg\" alt=\"Open In Colab\"/></a>"
      ]
    },
    {
      "cell_type": "markdown",
      "source": [
        "#**Hands-On Activity 5 | Chart Type**\n",
        "\n",
        "\n",
        "---\n",
        "\n"
      ],
      "metadata": {
        "id": "OtMpl9V4h79H"
      }
    },
    {
      "cell_type": "markdown",
      "source": [
        "\n",
        "\n",
        "```\n",
        "# This is formatted as code\n",
        "```\n",
        "\n",
        "Name : <br> Tuzara, John Paul B.\n",
        "Course Code and Title : <br> CPE031 Visualizations and Data Analytics\n",
        "Date Submitted : <br> 9/4/25\n",
        "Instructor : Engr. Maria Rizette H. Sayo\n",
        "\n",
        "\n",
        "---\n",
        "\n"
      ],
      "metadata": {
        "id": "8XbM7XqCr4hT"
      }
    },
    {
      "cell_type": "code",
      "source": [
        "from google.colab import drive\n",
        "drive.mount('/content/drive')"
      ],
      "metadata": {
        "colab": {
          "base_uri": "https://localhost:8080/"
        },
        "id": "JM2L5y14KCJe",
        "outputId": "dd6f7e71-ebf9-40d7-f2f0-e969912e943a"
      },
      "execution_count": null,
      "outputs": [
        {
          "output_type": "stream",
          "name": "stdout",
          "text": [
            "Drive already mounted at /content/drive; to attempt to forcibly remount, call drive.mount(\"/content/drive\", force_remount=True).\n"
          ]
        }
      ]
    },
    {
      "cell_type": "markdown",
      "source": [
        "**1. Objectives:**\n",
        "\n",
        "This activity aims to develop the students’ ability to visualize and create data graphs."
      ],
      "metadata": {
        "id": "glr4T4-BHQ0-"
      }
    },
    {
      "cell_type": "markdown",
      "source": [
        "**2. Intended Learning Outcomes (ILOs):**\n",
        "By the end of this module the students should be able to demonstrate:\n",
        "1. Analyze data charts in various use cases.\n",
        "2. Create effective data visualizations using charts."
      ],
      "metadata": {
        "id": "x_YA3HQeHTvu"
      }
    },
    {
      "cell_type": "markdown",
      "source": [
        "**3. Discussions:**"
      ],
      "metadata": {
        "id": "6AuFHyu_rmDM"
      }
    },
    {
      "cell_type": "markdown",
      "source": [
        "Selecting the right chart type is important because it determines how clearly the data can be understood. Different charts serve different purposes—bar and column charts are best for comparing categories, line charts highlight trends over time, pie charts show proportions, and scatter or bubble charts reveal relationships between variables. Choosing the correct chart depends on the nature of the data and the problem you want to analyze. A well-selected chart makes patterns more visible, reduces confusion, and helps in drawing accurate insights."
      ],
      "metadata": {
        "id": "Gq6PH7Lt1gos"
      }
    },
    {
      "cell_type": "markdown",
      "source": [
        "**4. Procedures:**"
      ],
      "metadata": {
        "id": "lBthaLikHsPe"
      }
    },
    {
      "cell_type": "markdown",
      "source": [
        "**Step 1 : Defining the problem using dataset**\n",
        "\n",
        "The data on road accident causes highlights a significant problem in road safety. By looking at the distribution, we can see that some causes occur far more often than others, showing clear patterns in why accidents happen. For example, if one category such as overspeeding or human error makes up the largest portion, it means that many accidents could be prevented by addressing that specific issue. This suggests that the problem is not just random but is linked to certain behaviors or conditions, and solving it will require targeted actions like stricter enforcement of traffic rules, better road designs, or awareness campaigns for drivers."
      ],
      "metadata": {
        "id": "wIjSONBYulmi"
      }
    },
    {
      "cell_type": "code",
      "execution_count": null,
      "metadata": {
        "id": "qW3_SpHkhujs",
        "colab": {
          "base_uri": "https://localhost:8080/"
        },
        "outputId": "e175bd4c-81fb-4686-ba21-c901dafe332c"
      },
      "outputs": [
        {
          "output_type": "stream",
          "name": "stdout",
          "text": [
            "Requirement already satisfied: pandas in /usr/local/lib/python3.12/dist-packages (2.2.2)\n",
            "Requirement already satisfied: numpy>=1.26.0 in /usr/local/lib/python3.12/dist-packages (from pandas) (2.0.2)\n",
            "Requirement already satisfied: python-dateutil>=2.8.2 in /usr/local/lib/python3.12/dist-packages (from pandas) (2.9.0.post0)\n",
            "Requirement already satisfied: pytz>=2020.1 in /usr/local/lib/python3.12/dist-packages (from pandas) (2025.2)\n",
            "Requirement already satisfied: tzdata>=2022.7 in /usr/local/lib/python3.12/dist-packages (from pandas) (2025.2)\n",
            "Requirement already satisfied: six>=1.5 in /usr/local/lib/python3.12/dist-packages (from python-dateutil>=2.8.2->pandas) (1.17.0)\n"
          ]
        }
      ],
      "source": [
        "#Install pandas\n",
        "!pip install pandas"
      ]
    },
    {
      "cell_type": "code",
      "source": [
        "import pandas as pd\n",
        "import matplotlib.pyplot as plt\n",
        "import numpy as np"
      ],
      "metadata": {
        "id": "o6M3bC-lEINm"
      },
      "execution_count": null,
      "outputs": []
    },
    {
      "cell_type": "markdown",
      "source": [
        "1. Create a local folder titled \"CPE 031_SURNAME\" that easily to locate.\n",
        "2. Download the RoadAccidents.csv\n",
        "3. Save it to the folder created."
      ],
      "metadata": {
        "id": "D7dqs9XQr9Hb"
      }
    },
    {
      "cell_type": "code",
      "source": [
        "df  = pd.read_csv(\"/content/drive/MyDrive/CPE031 Tuzara/RoadAccidents.csv\")"
      ],
      "metadata": {
        "id": "S-5xPRz1EQ0G"
      },
      "execution_count": null,
      "outputs": []
    },
    {
      "cell_type": "code",
      "source": [
        "df"
      ],
      "metadata": {
        "colab": {
          "base_uri": "https://localhost:8080/",
          "height": 424
        },
        "id": "p0y5iVZPEsEO",
        "outputId": "1ec74c4c-b7bb-4ef2-9394-068a23ba588a"
      },
      "execution_count": null,
      "outputs": [
        {
          "output_type": "execute_result",
          "data": {
            "text/plain": [
              "     Million Plus Cities   Cause category        Cause Subcategory  \\\n",
              "0                   Agra  Traffic Control  Flashing Signal/Blinker   \n",
              "1                   Agra  Traffic Control  Flashing Signal/Blinker   \n",
              "2                   Agra  Traffic Control  Flashing Signal/Blinker   \n",
              "3                   Agra  Traffic Control  Flashing Signal/Blinker   \n",
              "4                   Agra  Traffic Control  Flashing Signal/Blinker   \n",
              "...                  ...              ...                      ...   \n",
              "9545               Vizaq          Weather              Sunny/Clear   \n",
              "9546               Vizaq          Weather              Sunny/Clear   \n",
              "9547               Vizaq          Weather              Sunny/Clear   \n",
              "9548               Vizaq          Weather              Sunny/Clear   \n",
              "9549               Vizaq          Weather              Sunny/Clear   \n",
              "\n",
              "            Outcome of Incident   Count  \n",
              "0            Greviously Injured     0.0  \n",
              "1                  Minor Injury     0.0  \n",
              "2                Persons Killed     0.0  \n",
              "3                 Total Injured     0.0  \n",
              "4     Total number of Accidents     0.0  \n",
              "...                         ...     ...  \n",
              "9545         Greviously Injured   561.0  \n",
              "9546               Minor Injury   252.0  \n",
              "9547             Persons Killed   176.0  \n",
              "9548  Total number of Accidents  1207.0  \n",
              "9549              Total Injured   813.0  \n",
              "\n",
              "[9550 rows x 5 columns]"
            ],
            "text/html": [
              "\n",
              "  <div id=\"df-6fb9df05-df6e-44f8-8bf9-b915d5f83856\" class=\"colab-df-container\">\n",
              "    <div>\n",
              "<style scoped>\n",
              "    .dataframe tbody tr th:only-of-type {\n",
              "        vertical-align: middle;\n",
              "    }\n",
              "\n",
              "    .dataframe tbody tr th {\n",
              "        vertical-align: top;\n",
              "    }\n",
              "\n",
              "    .dataframe thead th {\n",
              "        text-align: right;\n",
              "    }\n",
              "</style>\n",
              "<table border=\"1\" class=\"dataframe\">\n",
              "  <thead>\n",
              "    <tr style=\"text-align: right;\">\n",
              "      <th></th>\n",
              "      <th>Million Plus Cities</th>\n",
              "      <th>Cause category</th>\n",
              "      <th>Cause Subcategory</th>\n",
              "      <th>Outcome of Incident</th>\n",
              "      <th>Count</th>\n",
              "    </tr>\n",
              "  </thead>\n",
              "  <tbody>\n",
              "    <tr>\n",
              "      <th>0</th>\n",
              "      <td>Agra</td>\n",
              "      <td>Traffic Control</td>\n",
              "      <td>Flashing Signal/Blinker</td>\n",
              "      <td>Greviously Injured</td>\n",
              "      <td>0.0</td>\n",
              "    </tr>\n",
              "    <tr>\n",
              "      <th>1</th>\n",
              "      <td>Agra</td>\n",
              "      <td>Traffic Control</td>\n",
              "      <td>Flashing Signal/Blinker</td>\n",
              "      <td>Minor Injury</td>\n",
              "      <td>0.0</td>\n",
              "    </tr>\n",
              "    <tr>\n",
              "      <th>2</th>\n",
              "      <td>Agra</td>\n",
              "      <td>Traffic Control</td>\n",
              "      <td>Flashing Signal/Blinker</td>\n",
              "      <td>Persons Killed</td>\n",
              "      <td>0.0</td>\n",
              "    </tr>\n",
              "    <tr>\n",
              "      <th>3</th>\n",
              "      <td>Agra</td>\n",
              "      <td>Traffic Control</td>\n",
              "      <td>Flashing Signal/Blinker</td>\n",
              "      <td>Total Injured</td>\n",
              "      <td>0.0</td>\n",
              "    </tr>\n",
              "    <tr>\n",
              "      <th>4</th>\n",
              "      <td>Agra</td>\n",
              "      <td>Traffic Control</td>\n",
              "      <td>Flashing Signal/Blinker</td>\n",
              "      <td>Total number of Accidents</td>\n",
              "      <td>0.0</td>\n",
              "    </tr>\n",
              "    <tr>\n",
              "      <th>...</th>\n",
              "      <td>...</td>\n",
              "      <td>...</td>\n",
              "      <td>...</td>\n",
              "      <td>...</td>\n",
              "      <td>...</td>\n",
              "    </tr>\n",
              "    <tr>\n",
              "      <th>9545</th>\n",
              "      <td>Vizaq</td>\n",
              "      <td>Weather</td>\n",
              "      <td>Sunny/Clear</td>\n",
              "      <td>Greviously Injured</td>\n",
              "      <td>561.0</td>\n",
              "    </tr>\n",
              "    <tr>\n",
              "      <th>9546</th>\n",
              "      <td>Vizaq</td>\n",
              "      <td>Weather</td>\n",
              "      <td>Sunny/Clear</td>\n",
              "      <td>Minor Injury</td>\n",
              "      <td>252.0</td>\n",
              "    </tr>\n",
              "    <tr>\n",
              "      <th>9547</th>\n",
              "      <td>Vizaq</td>\n",
              "      <td>Weather</td>\n",
              "      <td>Sunny/Clear</td>\n",
              "      <td>Persons Killed</td>\n",
              "      <td>176.0</td>\n",
              "    </tr>\n",
              "    <tr>\n",
              "      <th>9548</th>\n",
              "      <td>Vizaq</td>\n",
              "      <td>Weather</td>\n",
              "      <td>Sunny/Clear</td>\n",
              "      <td>Total number of Accidents</td>\n",
              "      <td>1207.0</td>\n",
              "    </tr>\n",
              "    <tr>\n",
              "      <th>9549</th>\n",
              "      <td>Vizaq</td>\n",
              "      <td>Weather</td>\n",
              "      <td>Sunny/Clear</td>\n",
              "      <td>Total Injured</td>\n",
              "      <td>813.0</td>\n",
              "    </tr>\n",
              "  </tbody>\n",
              "</table>\n",
              "<p>9550 rows × 5 columns</p>\n",
              "</div>\n",
              "    <div class=\"colab-df-buttons\">\n",
              "\n",
              "  <div class=\"colab-df-container\">\n",
              "    <button class=\"colab-df-convert\" onclick=\"convertToInteractive('df-6fb9df05-df6e-44f8-8bf9-b915d5f83856')\"\n",
              "            title=\"Convert this dataframe to an interactive table.\"\n",
              "            style=\"display:none;\">\n",
              "\n",
              "  <svg xmlns=\"http://www.w3.org/2000/svg\" height=\"24px\" viewBox=\"0 -960 960 960\">\n",
              "    <path d=\"M120-120v-720h720v720H120Zm60-500h600v-160H180v160Zm220 220h160v-160H400v160Zm0 220h160v-160H400v160ZM180-400h160v-160H180v160Zm440 0h160v-160H620v160ZM180-180h160v-160H180v160Zm440 0h160v-160H620v160Z\"/>\n",
              "  </svg>\n",
              "    </button>\n",
              "\n",
              "  <style>\n",
              "    .colab-df-container {\n",
              "      display:flex;\n",
              "      gap: 12px;\n",
              "    }\n",
              "\n",
              "    .colab-df-convert {\n",
              "      background-color: #E8F0FE;\n",
              "      border: none;\n",
              "      border-radius: 50%;\n",
              "      cursor: pointer;\n",
              "      display: none;\n",
              "      fill: #1967D2;\n",
              "      height: 32px;\n",
              "      padding: 0 0 0 0;\n",
              "      width: 32px;\n",
              "    }\n",
              "\n",
              "    .colab-df-convert:hover {\n",
              "      background-color: #E2EBFA;\n",
              "      box-shadow: 0px 1px 2px rgba(60, 64, 67, 0.3), 0px 1px 3px 1px rgba(60, 64, 67, 0.15);\n",
              "      fill: #174EA6;\n",
              "    }\n",
              "\n",
              "    .colab-df-buttons div {\n",
              "      margin-bottom: 4px;\n",
              "    }\n",
              "\n",
              "    [theme=dark] .colab-df-convert {\n",
              "      background-color: #3B4455;\n",
              "      fill: #D2E3FC;\n",
              "    }\n",
              "\n",
              "    [theme=dark] .colab-df-convert:hover {\n",
              "      background-color: #434B5C;\n",
              "      box-shadow: 0px 1px 3px 1px rgba(0, 0, 0, 0.15);\n",
              "      filter: drop-shadow(0px 1px 2px rgba(0, 0, 0, 0.3));\n",
              "      fill: #FFFFFF;\n",
              "    }\n",
              "  </style>\n",
              "\n",
              "    <script>\n",
              "      const buttonEl =\n",
              "        document.querySelector('#df-6fb9df05-df6e-44f8-8bf9-b915d5f83856 button.colab-df-convert');\n",
              "      buttonEl.style.display =\n",
              "        google.colab.kernel.accessAllowed ? 'block' : 'none';\n",
              "\n",
              "      async function convertToInteractive(key) {\n",
              "        const element = document.querySelector('#df-6fb9df05-df6e-44f8-8bf9-b915d5f83856');\n",
              "        const dataTable =\n",
              "          await google.colab.kernel.invokeFunction('convertToInteractive',\n",
              "                                                    [key], {});\n",
              "        if (!dataTable) return;\n",
              "\n",
              "        const docLinkHtml = 'Like what you see? Visit the ' +\n",
              "          '<a target=\"_blank\" href=https://colab.research.google.com/notebooks/data_table.ipynb>data table notebook</a>'\n",
              "          + ' to learn more about interactive tables.';\n",
              "        element.innerHTML = '';\n",
              "        dataTable['output_type'] = 'display_data';\n",
              "        await google.colab.output.renderOutput(dataTable, element);\n",
              "        const docLink = document.createElement('div');\n",
              "        docLink.innerHTML = docLinkHtml;\n",
              "        element.appendChild(docLink);\n",
              "      }\n",
              "    </script>\n",
              "  </div>\n",
              "\n",
              "\n",
              "    <div id=\"df-e919071e-6403-40cf-b982-d9f02b76c1ad\">\n",
              "      <button class=\"colab-df-quickchart\" onclick=\"quickchart('df-e919071e-6403-40cf-b982-d9f02b76c1ad')\"\n",
              "                title=\"Suggest charts\"\n",
              "                style=\"display:none;\">\n",
              "\n",
              "<svg xmlns=\"http://www.w3.org/2000/svg\" height=\"24px\"viewBox=\"0 0 24 24\"\n",
              "     width=\"24px\">\n",
              "    <g>\n",
              "        <path d=\"M19 3H5c-1.1 0-2 .9-2 2v14c0 1.1.9 2 2 2h14c1.1 0 2-.9 2-2V5c0-1.1-.9-2-2-2zM9 17H7v-7h2v7zm4 0h-2V7h2v10zm4 0h-2v-4h2v4z\"/>\n",
              "    </g>\n",
              "</svg>\n",
              "      </button>\n",
              "\n",
              "<style>\n",
              "  .colab-df-quickchart {\n",
              "      --bg-color: #E8F0FE;\n",
              "      --fill-color: #1967D2;\n",
              "      --hover-bg-color: #E2EBFA;\n",
              "      --hover-fill-color: #174EA6;\n",
              "      --disabled-fill-color: #AAA;\n",
              "      --disabled-bg-color: #DDD;\n",
              "  }\n",
              "\n",
              "  [theme=dark] .colab-df-quickchart {\n",
              "      --bg-color: #3B4455;\n",
              "      --fill-color: #D2E3FC;\n",
              "      --hover-bg-color: #434B5C;\n",
              "      --hover-fill-color: #FFFFFF;\n",
              "      --disabled-bg-color: #3B4455;\n",
              "      --disabled-fill-color: #666;\n",
              "  }\n",
              "\n",
              "  .colab-df-quickchart {\n",
              "    background-color: var(--bg-color);\n",
              "    border: none;\n",
              "    border-radius: 50%;\n",
              "    cursor: pointer;\n",
              "    display: none;\n",
              "    fill: var(--fill-color);\n",
              "    height: 32px;\n",
              "    padding: 0;\n",
              "    width: 32px;\n",
              "  }\n",
              "\n",
              "  .colab-df-quickchart:hover {\n",
              "    background-color: var(--hover-bg-color);\n",
              "    box-shadow: 0 1px 2px rgba(60, 64, 67, 0.3), 0 1px 3px 1px rgba(60, 64, 67, 0.15);\n",
              "    fill: var(--button-hover-fill-color);\n",
              "  }\n",
              "\n",
              "  .colab-df-quickchart-complete:disabled,\n",
              "  .colab-df-quickchart-complete:disabled:hover {\n",
              "    background-color: var(--disabled-bg-color);\n",
              "    fill: var(--disabled-fill-color);\n",
              "    box-shadow: none;\n",
              "  }\n",
              "\n",
              "  .colab-df-spinner {\n",
              "    border: 2px solid var(--fill-color);\n",
              "    border-color: transparent;\n",
              "    border-bottom-color: var(--fill-color);\n",
              "    animation:\n",
              "      spin 1s steps(1) infinite;\n",
              "  }\n",
              "\n",
              "  @keyframes spin {\n",
              "    0% {\n",
              "      border-color: transparent;\n",
              "      border-bottom-color: var(--fill-color);\n",
              "      border-left-color: var(--fill-color);\n",
              "    }\n",
              "    20% {\n",
              "      border-color: transparent;\n",
              "      border-left-color: var(--fill-color);\n",
              "      border-top-color: var(--fill-color);\n",
              "    }\n",
              "    30% {\n",
              "      border-color: transparent;\n",
              "      border-left-color: var(--fill-color);\n",
              "      border-top-color: var(--fill-color);\n",
              "      border-right-color: var(--fill-color);\n",
              "    }\n",
              "    40% {\n",
              "      border-color: transparent;\n",
              "      border-right-color: var(--fill-color);\n",
              "      border-top-color: var(--fill-color);\n",
              "    }\n",
              "    60% {\n",
              "      border-color: transparent;\n",
              "      border-right-color: var(--fill-color);\n",
              "    }\n",
              "    80% {\n",
              "      border-color: transparent;\n",
              "      border-right-color: var(--fill-color);\n",
              "      border-bottom-color: var(--fill-color);\n",
              "    }\n",
              "    90% {\n",
              "      border-color: transparent;\n",
              "      border-bottom-color: var(--fill-color);\n",
              "    }\n",
              "  }\n",
              "</style>\n",
              "\n",
              "      <script>\n",
              "        async function quickchart(key) {\n",
              "          const quickchartButtonEl =\n",
              "            document.querySelector('#' + key + ' button');\n",
              "          quickchartButtonEl.disabled = true;  // To prevent multiple clicks.\n",
              "          quickchartButtonEl.classList.add('colab-df-spinner');\n",
              "          try {\n",
              "            const charts = await google.colab.kernel.invokeFunction(\n",
              "                'suggestCharts', [key], {});\n",
              "          } catch (error) {\n",
              "            console.error('Error during call to suggestCharts:', error);\n",
              "          }\n",
              "          quickchartButtonEl.classList.remove('colab-df-spinner');\n",
              "          quickchartButtonEl.classList.add('colab-df-quickchart-complete');\n",
              "        }\n",
              "        (() => {\n",
              "          let quickchartButtonEl =\n",
              "            document.querySelector('#df-e919071e-6403-40cf-b982-d9f02b76c1ad button');\n",
              "          quickchartButtonEl.style.display =\n",
              "            google.colab.kernel.accessAllowed ? 'block' : 'none';\n",
              "        })();\n",
              "      </script>\n",
              "    </div>\n",
              "\n",
              "  <div id=\"id_25cfebda-a43d-4de4-b13b-c6a517d02175\">\n",
              "    <style>\n",
              "      .colab-df-generate {\n",
              "        background-color: #E8F0FE;\n",
              "        border: none;\n",
              "        border-radius: 50%;\n",
              "        cursor: pointer;\n",
              "        display: none;\n",
              "        fill: #1967D2;\n",
              "        height: 32px;\n",
              "        padding: 0 0 0 0;\n",
              "        width: 32px;\n",
              "      }\n",
              "\n",
              "      .colab-df-generate:hover {\n",
              "        background-color: #E2EBFA;\n",
              "        box-shadow: 0px 1px 2px rgba(60, 64, 67, 0.3), 0px 1px 3px 1px rgba(60, 64, 67, 0.15);\n",
              "        fill: #174EA6;\n",
              "      }\n",
              "\n",
              "      [theme=dark] .colab-df-generate {\n",
              "        background-color: #3B4455;\n",
              "        fill: #D2E3FC;\n",
              "      }\n",
              "\n",
              "      [theme=dark] .colab-df-generate:hover {\n",
              "        background-color: #434B5C;\n",
              "        box-shadow: 0px 1px 3px 1px rgba(0, 0, 0, 0.15);\n",
              "        filter: drop-shadow(0px 1px 2px rgba(0, 0, 0, 0.3));\n",
              "        fill: #FFFFFF;\n",
              "      }\n",
              "    </style>\n",
              "    <button class=\"colab-df-generate\" onclick=\"generateWithVariable('df')\"\n",
              "            title=\"Generate code using this dataframe.\"\n",
              "            style=\"display:none;\">\n",
              "\n",
              "  <svg xmlns=\"http://www.w3.org/2000/svg\" height=\"24px\"viewBox=\"0 0 24 24\"\n",
              "       width=\"24px\">\n",
              "    <path d=\"M7,19H8.4L18.45,9,17,7.55,7,17.6ZM5,21V16.75L18.45,3.32a2,2,0,0,1,2.83,0l1.4,1.43a1.91,1.91,0,0,1,.58,1.4,1.91,1.91,0,0,1-.58,1.4L9.25,21ZM18.45,9,17,7.55Zm-12,3A5.31,5.31,0,0,0,4.9,8.1,5.31,5.31,0,0,0,1,6.5,5.31,5.31,0,0,0,4.9,4.9,5.31,5.31,0,0,0,6.5,1,5.31,5.31,0,0,0,8.1,4.9,5.31,5.31,0,0,0,12,6.5,5.46,5.46,0,0,0,6.5,12Z\"/>\n",
              "  </svg>\n",
              "    </button>\n",
              "    <script>\n",
              "      (() => {\n",
              "      const buttonEl =\n",
              "        document.querySelector('#id_25cfebda-a43d-4de4-b13b-c6a517d02175 button.colab-df-generate');\n",
              "      buttonEl.style.display =\n",
              "        google.colab.kernel.accessAllowed ? 'block' : 'none';\n",
              "\n",
              "      buttonEl.onclick = () => {\n",
              "        google.colab.notebook.generateWithVariable('df');\n",
              "      }\n",
              "      })();\n",
              "    </script>\n",
              "  </div>\n",
              "\n",
              "    </div>\n",
              "  </div>\n"
            ],
            "application/vnd.google.colaboratory.intrinsic+json": {
              "type": "dataframe",
              "variable_name": "df",
              "summary": "{\n  \"name\": \"df\",\n  \"rows\": 9550,\n  \"fields\": [\n    {\n      \"column\": \"Million Plus Cities\",\n      \"properties\": {\n        \"dtype\": \"category\",\n        \"num_unique_values\": 50,\n        \"samples\": [\n          \"Faridabad\",\n          \"Raipur\",\n          \"Ludhiana\"\n        ],\n        \"semantic_type\": \"\",\n        \"description\": \"\"\n      }\n    },\n    {\n      \"column\": \"Cause category\",\n      \"properties\": {\n        \"dtype\": \"category\",\n        \"num_unique_values\": 6,\n        \"samples\": [\n          \"Traffic Control\",\n          \"Junction\",\n          \"Weather\"\n        ],\n        \"semantic_type\": \"\",\n        \"description\": \"\"\n      }\n    },\n    {\n      \"column\": \"Cause Subcategory\",\n      \"properties\": {\n        \"dtype\": \"category\",\n        \"num_unique_values\": 35,\n        \"samples\": [\n          \"Cars, Taxis, Vans and LMV\",\n          \"Jumping Red Light\",\n          \"Bicycles\"\n        ],\n        \"semantic_type\": \"\",\n        \"description\": \"\"\n      }\n    },\n    {\n      \"column\": \"Outcome of Incident\",\n      \"properties\": {\n        \"dtype\": \"category\",\n        \"num_unique_values\": 5,\n        \"samples\": [\n          \"Minor Injury\",\n          \"Total number of Accidents\",\n          \"Persons Killed\"\n        ],\n        \"semantic_type\": \"\",\n        \"description\": \"\"\n      }\n    },\n    {\n      \"column\": \"Count\",\n      \"properties\": {\n        \"dtype\": \"number\",\n        \"std\": 275.1893026151348,\n        \"min\": 0.0,\n        \"max\": 3148.0,\n        \"num_unique_values\": 800,\n        \"samples\": [\n          283.0,\n          916.0,\n          43.0\n        ],\n        \"semantic_type\": \"\",\n        \"description\": \"\"\n      }\n    }\n  ]\n}"
            }
          },
          "metadata": {},
          "execution_count": 18
        }
      ]
    },
    {
      "cell_type": "markdown",
      "source": [
        "**Step 2 : Deciding which data parameter is relevant according to the problem**\n",
        "\n",
        "In the case of road accidents, not all available data may directly explain the causes. For example, parameters like the cause category are very relevant because they show why accidents happen, while other details such as vehicle color may not contribute much to solving the problem. Choosing the right parameter ensures that the analysis focuses on meaningful information, avoids unnecessary complexity, and leads to more accurate conclusions and solutions."
      ],
      "metadata": {
        "id": "cJ9ebZFRu9U6"
      }
    },
    {
      "cell_type": "markdown",
      "source": [
        "**Step 3 : Selecting a Chart Type**\n",
        "\n",
        "Choosing the correct chart is important because it determines how well the data can be understood and interpreted. The right chart makes patterns, comparisons, or proportions easier to see, while the wrong chart can confuse the audience or even hide the real meaning of the data. For example, a pie chart is best when showing proportions of a whole, such as the share of accident causes, while a bar chart is better for comparing exact numbers across categories. By matching the chart type to the purpose of the analysis, the data becomes clearer, more accurate, and more useful for decision-making."
      ],
      "metadata": {
        "id": "Ja0yOqPXvNN6"
      }
    },
    {
      "cell_type": "markdown",
      "source": [
        "**Pie Chart**\n",
        "\n",
        "The pie chart is effective for this type of visualization because it clearly shows how road accident causes are divided into different categories. By using percentages, it is easy to compare the size of each category and quickly identify which cause contributes the most and which ones are less common. This makes the data more understandable at a glance, especially when the goal is to highlight the proportion of each cause rather than the exact numbers."
      ],
      "metadata": {
        "id": "s5UIlH4TuEpJ"
      }
    },
    {
      "cell_type": "code",
      "metadata": {
        "colab": {
          "base_uri": "https://localhost:8080/",
          "height": 675
        },
        "id": "72013683-a98b-4b19-acb9-d3e39d5477a3",
        "outputId": "d0191de2-6219-4612-be58-ae02ecffd19b"
      },
      "source": [
        "# Count values in 'Cause category'\n",
        "cause_counts = df['Cause category'].value_counts()\n",
        "\n",
        "# Create a pie chart\n",
        "cause_counts.plot.pie(figsize=(8, 8), autopct='%1.1f%%')\n",
        "\n",
        "# Add title\n",
        "plt.title('Distribution of Road Accident Cause Categories')\n",
        "\n",
        "# Remove y-axis label\n",
        "plt.ylabel('')\n",
        "\n",
        "# Show chart\n",
        "plt.show()"
      ],
      "execution_count": null,
      "outputs": [
        {
          "output_type": "display_data",
          "data": {
            "text/plain": [
              "<Figure size 800x800 with 1 Axes>"
            ],
            "image/png": "[encoded data removed]"
          },
          "metadata": {}
        }
      ]
    },
    {
      "cell_type": "markdown",
      "source": [
        "**Bar Chart**\n",
        "\n",
        "The bar chart is effective for this type of visualization because it shows the exact number of accidents for each cause category. Unlike the pie chart, it makes it easier to compare the size of each category side by side, especially when there are many categories. The height of the bars gives a clear picture of which causes are more frequent and which are less common, making the data straightforward to interpret."
      ],
      "metadata": {
        "id": "T_JO8gKluUuB"
      }
    },
    {
      "cell_type": "code",
      "source": [
        "# Count values in the 'Cause category' column\n",
        "cause_counts = df['Cause category'].value_counts()\n",
        "\n",
        "# Plot a bar chart\n",
        "cause_counts.plot.bar(figsize=(8, 6), color='skyblue', edgecolor='black')\n",
        "\n",
        "# Add labels and title\n",
        "plt.title('Distribution of Road Accident Cause Categories')\n",
        "plt.xlabel('Cause Category')\n",
        "plt.ylabel('Number of Accidents')\n",
        "\n",
        "# Show chart\n",
        "plt.show()"
      ],
      "metadata": {
        "colab": {
          "base_uri": "https://localhost:8080/",
          "height": 724
        },
        "id": "AnI1iS5Tt0IZ",
        "outputId": "2d798a94-fe4c-4305-c44b-f2b537081c95"
      },
      "execution_count": null,
      "outputs": [
        {
          "output_type": "display_data",
          "data": {
            "text/plain": [
              "<Figure size 800x600 with 1 Axes>"
            ],
            "image/png": "[encoded data removed]"
          },
          "metadata": {}
        }
      ]
    },
    {
      "cell_type": "markdown",
      "source": [
        "**Task 1.**\n",
        "\n",
        "Using the dataset visualize the cause subcategory using the pie chart and bar chart."
      ],
      "metadata": {
        "id": "M7hQH8_L2Vvz"
      }
    },
    {
      "cell_type": "code",
      "source": [
        "import"
      ],
      "metadata": {
        "id": "O2D2GeXK2oIy",
        "colab": {
          "base_uri": "https://localhost:8080/",
          "height": 106
        },
        "outputId": "b1f42c3f-0c3b-4d56-e77f-11eecf78d229"
      },
      "execution_count": null,
      "outputs": [
        {
          "output_type": "error",
          "ename": "SyntaxError",
          "evalue": "invalid syntax (ipython-input-2494350585.py, line 1)",
          "traceback": [
            "\u001b[0;36m  File \u001b[0;32m\"/tmp/ipython-input-2494350585.py\"\u001b[0;36m, line \u001b[0;32m1\u001b[0m\n\u001b[0;31m    import\u001b[0m\n\u001b[0m           ^\u001b[0m\n\u001b[0;31mSyntaxError\u001b[0m\u001b[0;31m:\u001b[0m invalid syntax\n"
          ]
        }
      ]
    },
    {
      "cell_type": "markdown",
      "source": [
        "\n",
        "\n",
        "---\n",
        "\n",
        "\n",
        "\n",
        "\n",
        "\n",
        "\n",
        "\n",
        "\n",
        "\n",
        "\n",
        "\n",
        "\n",
        "**Scatter Chart**\n",
        "\n",
        "A scatter chart is best when you want to show the relationship between two numerical parameters. In your data, the \"Count\" column is numerical, so it should be one axis. The other axis can be a numerical transformation, such as grouping by \"Cause category\" or \"Outcome of Incident\" (converted to counts). For example, you can compare “Total number of Accidents” vs. “Total Injured” across different cities. This helps show whether more accidents always lead to more injuries."
      ],
      "metadata": {
        "id": "-p7rs3tEvbow"
      }
    },
    {
      "cell_type": "code",
      "source": [
        "# Filter dataset to only include rows with 'Total number of Accidents' and 'Total Injured'\n",
        "accidents = df[df['Outcome of Incident'] == 'Total number of Accidents']\n",
        "injured = df[df['Outcome of Incident'] == 'Total Injured']\n",
        "\n",
        "# Merge on city and cause to align values\n",
        "scatter_data = accidents.merge(\n",
        "    injured,\n",
        "    on=['Million Plus Cities', 'Cause category', 'Cause Subcategory'],\n",
        "    suffixes=('_Accidents', '_Injured')\n",
        ")\n",
        "\n",
        "# Plot scatter chart\n",
        "plt.figure(figsize=(8, 6))\n",
        "plt.scatter(\n",
        "    scatter_data['Count_Accidents'],\n",
        "    scatter_data['Count_Injured'],\n",
        "    alpha=0.6,\n",
        "    color='blue'\n",
        ")\n",
        "\n",
        "# Add labels and title\n",
        "plt.title('Scatter Chart: Accidents vs Injured')\n",
        "plt.xlabel('Total Number of Accidents')\n",
        "plt.ylabel('Total Injured')\n",
        "\n",
        "# Show chart\n",
        "plt.show()"
      ],
      "metadata": {
        "id": "_znW6zY2wYPT"
      },
      "execution_count": null,
      "outputs": []
    },
    {
      "cell_type": "markdown",
      "source": [
        "The scatter chart shows how the total number of accidents relates to the total number of injured. If the points go upward as accidents increase, it means more accidents usually lead to more injuries. Points that stand out show unusual cases where the number of injuries does not match the number of accidents.\n",
        "\n",
        "\n",
        "---\n",
        "\n"
      ],
      "metadata": {
        "id": "GeLJ6iVewfZB"
      }
    },
    {
      "cell_type": "markdown",
      "source": [
        "**Bubble Chart**\n",
        "\n",
        "A bubble chart adds a third dimension by using bubble size. Here, the x-axis and y-axis can still be numerical values like “Total number of Accidents” and “Total Injured”, while the bubble size can represent “Persons Killed” or “Minor Injury” counts. You can also use “Million Plus Cities” or “Cause category” as grouping labels to distinguish bubbles by color."
      ],
      "metadata": {
        "id": "CtsncTJewREq"
      }
    },
    {
      "cell_type": "code",
      "source": [
        "# Filter dataset for needed outcomes\n",
        "accidents = df[df['Outcome of Incident'] == 'Total number of Accidents']\n",
        "injured = df[df['Outcome of Incident'] == 'Total Injured']\n",
        "killed = df[df['Outcome of Incident'] == 'Persons Killed']\n",
        "\n",
        "# Merge data on city and cause to align values\n",
        "bubble_data = accidents.merge(\n",
        "    injured,\n",
        "    on=['Million Plus Cities', 'Cause category', 'Cause Subcategory'],\n",
        "    suffixes=('_Accidents', '_Injured')\n",
        ").merge(\n",
        "    killed,\n",
        "    on=['Million Plus Cities', 'Cause category', 'Cause Subcategory']\n",
        ")\n",
        "\n",
        "# Plot bubble chart\n",
        "plt.figure(figsize=(10, 7))\n",
        "plt.scatter(\n",
        "    bubble_data['Count_Accidents'],\n",
        "    bubble_data['Count_Injured'],\n",
        "    s=bubble_data['Count'],   # bubble size = persons killed\n",
        "    alpha=0.5,\n",
        "    c='orange',\n",
        "    edgecolors='black'\n",
        ")\n",
        "\n",
        "# Add labels and title\n",
        "plt.title('Bubble Chart: Accidents vs Injured (Bubble Size = Persons Killed)')\n",
        "plt.xlabel('Total Number of Accidents')\n",
        "plt.ylabel('Total Injured')\n",
        "\n",
        "# Show chart\n",
        "plt.show()"
      ],
      "metadata": {
        "id": "NcDO0mC5F7bm"
      },
      "execution_count": null,
      "outputs": []
    },
    {
      "cell_type": "markdown",
      "source": [
        "The bubble chart shows the link between the total number of accidents (x-axis) and the total number of injured (y-axis), while the bubble size represents the number of persons killed. Bigger bubbles mean more deaths in that category or city. This makes it easy to see not only how accidents relate to injuries but also where the impact is more severe in terms of fatalities.\n",
        "\n",
        "\n",
        "---\n",
        "\n"
      ],
      "metadata": {
        "id": "8jIWUPk1wtJf"
      }
    },
    {
      "cell_type": "markdown",
      "source": [
        "**Line Chart**\n",
        "A line chart is useful for showing trends over time. It connects data points with lines, making it easy to see increases, decreases, or patterns across a timeline or sequence."
      ],
      "metadata": {
        "id": "JwRnWkqGwvo3"
      }
    },
    {
      "cell_type": "markdown",
      "source": [
        "A line chart is effective for showing changes in road accidents or injuries across a period. For example, plotting the “Total number of Accidents” by months or years can reveal whether cases are rising, falling, or staying steady. This helps in spotting patterns and understanding the overall trend rather than just looking at single values."
      ],
      "metadata": {
        "id": "hpauav5bxKX3"
      }
    },
    {
      "cell_type": "code",
      "source": [
        "# Filter only 'Total number of Accidents'\n",
        "accidents = df[df['Outcome of Incident'] == 'Total number of Accidents']\n",
        "\n",
        "# Group by City and sum counts\n",
        "city_trend = accidents.groupby('Million Plus Cities')['Count'].sum()\n",
        "\n",
        "# Plot line chart\n",
        "plt.figure(figsize=(12, 6))\n",
        "plt.plot(city_trend.index, city_trend.values, marker='o', linestyle='-', color='blue')\n",
        "\n",
        "# Add labels and title\n",
        "plt.title('Total Number of Accidents by City')\n",
        "plt.xlabel('Million Plus Cities')\n",
        "plt.ylabel('Total Number of Accidents')\n",
        "\n",
        "# Rotate x-axis labels for readability\n",
        "plt.xticks(rotation=90)\n",
        "\n",
        "# Show chart\n",
        "plt.show()"
      ],
      "metadata": {
        "id": "Pk4Rcvamw_Ov"
      },
      "execution_count": null,
      "outputs": []
    },
    {
      "cell_type": "markdown",
      "source": [
        "**Column Chart**\n",
        "A column chart uses vertical bars to compare values across categories. It is effective when you want to highlight differences in size or frequency between groups."
      ],
      "metadata": {
        "id": "G7gY0Lz8xAcn"
      }
    },
    {
      "cell_type": "code",
      "source": [
        "# Filter only 'Total number of Accidents'\n",
        "accidents = df[df['Outcome of Incident'] == 'Total number of Accidents']\n",
        "\n",
        "# Group by City and sum counts\n",
        "city_counts = accidents.groupby('Million Plus Cities')['Count'].sum()\n",
        "\n",
        "# Plot column chart (vertical bars)\n",
        "plt.figure(figsize=(12, 6))\n",
        "city_counts.plot(kind='bar', color='skyblue', edgecolor='black')\n",
        "\n",
        "# Add labels and title\n",
        "plt.title('Total Number of Accidents by City')\n",
        "plt.xlabel('Million Plus Cities')\n",
        "plt.ylabel('Total Number of Accidents')\n",
        "\n",
        "# Rotate x-axis labels for readability\n",
        "plt.xticks(rotation=90)\n",
        "\n",
        "# Show chart\n",
        "plt.show()"
      ],
      "metadata": {
        "id": "B0GsplFbxDEf"
      },
      "execution_count": null,
      "outputs": []
    },
    {
      "cell_type": "markdown",
      "source": [
        "**Bar Chart**\n",
        "A bar chart uses horizontal bars to compare data. It is especially helpful when category names are long or when you want to easily compare values side by side."
      ],
      "metadata": {
        "id": "4hFxqfDsxDTP"
      }
    },
    {
      "cell_type": "code",
      "source": [
        "# Filter only 'Total number of Accidents'\n",
        "accidents = df[df['Outcome of Incident'] == 'Total number of Accidents']\n",
        "\n",
        "# Group by City and sum counts\n",
        "city_counts = accidents.groupby('Million Plus Cities')['Count'].sum()\n",
        "\n",
        "# Plot bar chart (horizontal bars)\n",
        "plt.figure(figsize=(10, 8))\n",
        "city_counts.plot(kind='barh', color='lightcoral', edgecolor='black')\n",
        "\n",
        "# Add labels and title\n",
        "plt.title('Total Number of Accidents by City')\n",
        "plt.xlabel('Total Number of Accidents')\n",
        "plt.ylabel('Million Plus Cities')\n",
        "\n",
        "# Show chart\n",
        "plt.show()"
      ],
      "metadata": {
        "id": "TFAOj2nkwvTZ"
      },
      "execution_count": null,
      "outputs": []
    },
    {
      "cell_type": "markdown",
      "source": [
        "**Task 2.**\n",
        "\n",
        "Using the line, column, and bar chart. Visualize the parameter of Cause Subcategory."
      ],
      "metadata": {
        "id": "9JfnfiY93Efr"
      }
    },
    {
      "cell_type": "code",
      "source": [
        "#Code here"
      ],
      "metadata": {
        "id": "cShEGJBu3TBZ"
      },
      "execution_count": null,
      "outputs": []
    },
    {
      "cell_type": "markdown",
      "source": [
        "\n",
        "\n",
        "---\n",
        "\n",
        "\n",
        "**MAPS**\n",
        "\n",
        "\n",
        "---\n",
        "\n"
      ],
      "metadata": {
        "id": "lk4fFGaQx2C1"
      }
    },
    {
      "cell_type": "markdown",
      "source": [
        "**Heat Map**"
      ],
      "metadata": {
        "id": "DHErSNL4x8BG"
      }
    },
    {
      "cell_type": "code",
      "source": [
        "import seaborn as sns"
      ],
      "metadata": {
        "id": "7FqZ0T_gx8zn"
      },
      "execution_count": null,
      "outputs": []
    },
    {
      "cell_type": "code",
      "source": [
        "# Pivot table: Cities (rows) vs. Outcomes (columns)\n",
        "heat_data = df.pivot_table(\n",
        "    index=\"Million Plus Cities\",\n",
        "    columns=\"Outcome of Incident\",\n",
        "    values=\"Count\",\n",
        "    aggfunc=\"sum\"\n",
        ").fillna(0)\n",
        "\n",
        "# Plot heatmap\n",
        "plt.figure(figsize=(12, 8))\n",
        "sns.heatmap(heat_data, cmap=\"Reds\", linewidths=0.5)\n",
        "\n",
        "plt.title(\"Heat Map of Road Accident Outcomes by City\")\n",
        "plt.xlabel(\"Outcome of Incident\")\n",
        "plt.ylabel(\"Million Plus Cities\")\n",
        "plt.show()"
      ],
      "metadata": {
        "id": "4kADPUQox_Nl"
      },
      "execution_count": null,
      "outputs": []
    },
    {
      "cell_type": "markdown",
      "source": [
        "The heat map shows the intensity of accident outcomes across different cities. Darker colors represent higher numbers, making it easy to see which cities report more accidents, injuries, or fatalities. This type of map is effective for spotting patterns and quickly identifying cities that need more attention in terms of road safety.\n",
        "\n",
        "---\n",
        "\n"
      ],
      "metadata": {
        "id": "8WNNUuXgyHhI"
      }
    },
    {
      "cell_type": "markdown",
      "source": [
        "**Tree Map**\n",
        "\n",
        "The treemap breaks down accidents by cause category and subcategory. Each rectangle’s size represents the number of cases, so larger rectangles mean more frequent causes. This visualization is useful because it highlights which accident causes dominate overall and also shows how subcategories contribute within each main cause."
      ],
      "metadata": {
        "id": "CBUx8kXxyK8g"
      }
    },
    {
      "cell_type": "code",
      "source": [
        "!pip install squarify"
      ],
      "metadata": {
        "colab": {
          "base_uri": "https://localhost:8080/"
        },
        "id": "PodiGbyuyded",
        "outputId": "0b60ac57-3a8a-4222-9f09-0724e7e5b6f6"
      },
      "execution_count": null,
      "outputs": [
        {
          "output_type": "stream",
          "name": "stdout",
          "text": [
            "Collecting squarify\n",
            "  Downloading squarify-0.4.4-py3-none-any.whl.metadata (600 bytes)\n",
            "Downloading squarify-0.4.4-py3-none-any.whl (4.1 kB)\n",
            "Installing collected packages: squarify\n",
            "Successfully installed squarify-0.4.4\n"
          ]
        }
      ]
    },
    {
      "cell_type": "code",
      "source": [
        "import squarify"
      ],
      "metadata": {
        "id": "LtNztc7LyKrn"
      },
      "execution_count": null,
      "outputs": []
    },
    {
      "cell_type": "code",
      "source": [
        "# Group by Cause category and subcategory\n",
        "treemap_data = df.groupby([\"Cause category\", \"Cause Subcategory\"])[\"Count\"].sum().reset_index()\n",
        "\n",
        "# Prepare labels\n",
        "labels = treemap_data[\"Cause category\"] + \"\\n\" + treemap_data[\"Cause Subcategory\"] + \"\\n\" + treemap_data[\"Count\"].astype(str)\n",
        "\n",
        "# Plot treemap with smaller font size\n",
        "plt.figure(figsize=(12, 8))\n",
        "squarify.plot(\n",
        "    sizes=treemap_data[\"Count\"],\n",
        "    label=labels,\n",
        "    alpha=0.7,\n",
        "    text_kwargs={'fontsize':8}   # correct way to set text size\n",
        ")\n",
        "\n",
        "plt.title(\"Treemap of Road Accident Causes and Subcategories\")\n",
        "plt.axis(\"off\")\n",
        "plt.show()"
      ],
      "metadata": {
        "id": "DQgX7SpIyh7P"
      },
      "execution_count": null,
      "outputs": []
    },
    {
      "cell_type": "markdown",
      "source": [
        "\n",
        "\n",
        "---\n",
        "\n",
        "**TABLES VERSUS CHARTS**\n",
        "\n",
        "In general, charts can often convey information faster and easier to readers than tables, but\n",
        "in some cases a table is more appropriate. Tables should be used when the:\n",
        "\n",
        "\n",
        "*   reader needs to refer to specific numerical values.\n",
        "*   reader needs to make precise comparisons between different values and not just relative comparisons.\n",
        "*   values being displayed have different units or very different magnitudes\n",
        "\n",
        "\n",
        "\n",
        "\n"
      ],
      "metadata": {
        "id": "gwpOF2PBzVEF"
      }
    },
    {
      "cell_type": "code",
      "source": [
        "# Sample data (not in the Road Accidents Dataset)\n",
        "data = {\n",
        "    \"City\": [\"Agra\", \"Delhi\", \"Mumbai\", \"Chennai\", \"Vizaq\"],\n",
        "    \"Total number of Accidents\": [150, 320, 210, 180, 120]\n",
        "}\n",
        "df_table = pd.DataFrame(data)\n",
        "\n",
        "# Show the table\n",
        "print(\"Table of Total Number of Accidents by City\")\n",
        "print(df_table)\n",
        "\n",
        "# Plot the chart\n",
        "plt.figure(figsize=(8, 5))\n",
        "plt.bar(df_table[\"City\"], df_table[\"Total number of Accidents\"], color=\"skyblue\")\n",
        "plt.title(\"Total Number of Accidents by City\")\n",
        "plt.xlabel(\"City\")\n",
        "plt.ylabel(\"Number of Accidents\")\n",
        "plt.show()"
      ],
      "metadata": {
        "id": "Kihplm_Q0POO"
      },
      "execution_count": null,
      "outputs": []
    },
    {
      "cell_type": "markdown",
      "source": [
        "**5. Supplementary Activity:**"
      ],
      "metadata": {
        "id": "11qxAkUnHjC-"
      }
    },
    {
      "cell_type": "markdown",
      "source": [
        "1. Identify and obtain a dataset in .csv format from reputable sources such as Kaggle or Google Dataset Search.\n",
        "2. Formulate a clear problem statement that specifies what aspect of the data you aim to analyze or visualize.\n",
        "3. Apply an appropriate visualization technique by selecting the chart type that best represents the dataset and effectively addresses the stated problem.\n",
        "4. Provide a comprehensive explanation of the chosen chart, justifying why it is suitable for representing the data and how it contributes to understanding the problem."
      ],
      "metadata": {
        "id": "rjDV_s7H0cAT"
      }
    },
    {
      "cell_type": "code",
      "source": [
        "#Code here"
      ],
      "metadata": {
        "id": "sc4JAmIZ0bY1"
      },
      "execution_count": null,
      "outputs": []
    },
    {
      "cell_type": "markdown",
      "source": [
        "**6. Conclusion/Learnings/Analysis:**"
      ],
      "metadata": {
        "id": "afH-k2GUGQ6e"
      }
    },
    {
      "cell_type": "markdown",
      "source": [
        "*Type it here"
      ],
      "metadata": {
        "id": "dqxT0k6KGU3u"
      }
    }
  ]
}